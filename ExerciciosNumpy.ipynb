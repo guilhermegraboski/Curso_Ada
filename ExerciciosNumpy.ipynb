{
  "cells": [
    {
      "cell_type": "markdown",
      "metadata": {
        "colab_type": "text",
        "id": "view-in-github"
      },
      "source": [
        "<a href=\"https://colab.research.google.com/github/robertosgpontes/tec_prog_1/blob/main/ExerciciosNumpy.ipynb\" target=\"_parent\"><img src=\"https://colab.research.google.com/assets/colab-badge.svg\" alt=\"Open In Colab\"/></a>"
      ]
    },
    {
      "cell_type": "markdown",
      "metadata": {
        "id": "dDhJSUbSE6hI"
      },
      "source": [
        "# Lista de Exercícios de Numpy\n",
        "\n",
        "Deverá ser entrege até **11/02/2023** por meio do github que foi informado por vocês no [formulário](https://forms.office.com/r/YV12vEXGYF) respondido na aula de 01/02.\n",
        "\n",
        "A entrega pela github é parte da avaliação."
      ]
    },
    {
      "cell_type": "markdown",
      "metadata": {
        "id": "eX5x6-bjE6hN"
      },
      "source": [
        "## Questão 1\n",
        "\n",
        "Crie um array 100 com valores aleatórios e ache os valores máximo e mínimo"
      ]
    },
    {
      "cell_type": "code",
      "execution_count": 2,
      "metadata": {
        "id": "kYKS_ae1E6hP"
      },
      "outputs": [
        {
          "name": "stdout",
          "output_type": "stream",
          "text": [
            "[535 826 344 826 484  71 960 805 396 160 401 697 732 420 810 741 812  53\n",
            " 597 787 117 160 629 408 588 987 248  65 798 113 326 690 604 109 612 136\n",
            " 308 504 452 812 345 542 152 888 337  87  24 518 589 570 748 886 439 763\n",
            " 876 971 921 796  56 778 321  13 261  39 880 647 411 969 946 741  60   1\n",
            " 234 845 404 312 121 901 353 246  55 744 531 892 419 465 754 424 787 120\n",
            " 560 217 644 350 258 679 867 715 741 496]\n",
            "\n",
            "-------------------------------Informações------------------------------------\n",
            "Valor Máximo: 987\n",
            "Valor Mínimo: 1\n"
          ]
        }
      ],
      "source": [
        "import numpy as np\n",
        "\n",
        "num_aleatorios = np.random.randint(1, 1000, 100)\n",
        "print (num_aleatorios)\n",
        "\n",
        "print(\"\\n-------------------------------Informações------------------------------------\")\n",
        "print ('Valor Máximo: ' + str(max(num_aleatorios)))\n",
        "print ('Valor Mínimo: ' + str(min(num_aleatorios)))"
      ]
    },
    {
      "cell_type": "markdown",
      "metadata": {
        "id": "qT9pSHp4E6hQ"
      },
      "source": [
        "## Questão 2\n",
        "Em Geometria Analítica, um **vetor** é uma quantidade que pode ser definida por um énuplo (uma sequência ordenada de *n* elementos) em que cada elemento representa a intensidade do vetor na direção especificada pela i-ésima componente desta sequência. \n",
        "\n",
        "Quando pensamos em duas dimensões, por exemplo, o vetor $R = (b,a)$ define, geometricamente, a entidade representada na figura abaixo, com componentes nos eixos x e y usuais.\n",
        "\n",
        "<img src = \"https://static.todamateria.com.br/upload/im/ag/image-721.jpg?auto_optimize=low\" />\n",
        "\n",
        "O **módulo** deste vetor, também chamado de intensidade, está geometricamente relacionado ao seu comprimento, e pode ser calculado diretamente pelas suas componentes, por meio de uma operação conhecida como **produto escalar** do vetor com ele mesmo. O módulo quadrático é expresso, desta forma, por:\n",
        "\n",
        "$|A|^2 = \\vec{A} \\cdot \\vec{A}$\n",
        "\n",
        "Por outro lado, o produto escalar entre dois vetores $A = (a_{x}, a_{y})$ e $B = (b_{x}, b_{y})$ é dado por:\n",
        "\n",
        "$\\vec{A} \\cdot \\vec{B} = a_{x} \\times b_{x} + a_{y} \\times b_{y}$ (e esta definição vale para qualquer que seja a dimensão do vetor).\n",
        "\n",
        "O módulo quadrático de um vetor é, portanto:\n",
        "\n",
        "$|A|² = a_{x}^2 + b_{x}^2$."
      ]
    },
    {
      "cell_type": "markdown",
      "metadata": {
        "id": "-ZU6W86sE6hT"
      },
      "source": [
        "Dado o exposto acima, escreva uma função que retorne o módulo de um vetor n-dimensional qualquer."
      ]
    },
    {
      "cell_type": "code",
      "execution_count": 17,
      "metadata": {},
      "outputs": [
        {
          "name": "stdout",
          "output_type": "stream",
          "text": [
            "|A| =  3.4641016151377544\n"
          ]
        }
      ],
      "source": [
        "def modulo(x):\n",
        "    soma = 0\n",
        "    for i in x:\n",
        "        soma+=(i*i)\n",
        "\n",
        "    modulo = (soma)**(0.5)\n",
        "    return modulo\n",
        "\n",
        "x = np.array ([2,2,2])\n",
        "print(\"|A| = \",modulo(x))"
      ]
    },
    {
      "cell_type": "markdown",
      "metadata": {
        "id": "CRZdfzLgE6hU"
      },
      "source": [
        "## Questão 3\n",
        "\n",
        "Em uma **análise de regressão**, usualmente estamos interessados em descrever relações entre variáveis de um dado conjunto de dados por meio de uma **função** que descreva, o tanto quanto possível, estas relações.\n",
        "\n",
        "Por exemplo, no gráfico abaixo, os pontos vermelhos relacionam as medidas das duas variáveis sendo avaliadas (nos eixos x e y); e a linha azul aproxima a relação entre elas por uma função linear."
      ]
    },
    {
      "cell_type": "markdown",
      "metadata": {
        "id": "180Vp7AZE6hV"
      },
      "source": [
        "![Normdist_regression.png](https://miro.medium.com/v2/resize:fit:786/format:webp/1*LEmBCYAttxS6uI6rEyPLMQ.png)"
      ]
    },
    {
      "cell_type": "markdown",
      "metadata": {
        "id": "oQ1RFXOAE6hV"
      },
      "source": [
        "É possível ver que nem todos os pontos obedecem exatamente à relação ditada pela reta (isto é, há pontos que não estão exatamente \"sobre a reta\"; mas, sim, ligeraimente acima, ou abaixo, dela). Isto, contudo, é esperado em um modelo de regressão, por inúmeras fontes de incerteza associadas às medições."
      ]
    },
    {
      "cell_type": "markdown",
      "metadata": {
        "id": "XGWoc_O2E6hW"
      },
      "source": [
        "Uma das métricas que utilizamos para avaliar a qualidade de uma regressão é o **erro quadrático médio (EQM)**, que mensura a diferença total entre cada predição da regressão ($y_{prediction}$; que no nosso caso seriam os valores de y para a reta azul) com o valor real de cada i-ésima medida ($y_{i}$; que no nosso caso seriam as coordenadas y para cada ponto vermelho do gráfico). O EQM pode ser definido como:"
      ]
    },
    {
      "cell_type": "markdown",
      "metadata": {
        "id": "CjgOdTD6E6hX"
      },
      "source": [
        "$EQM = \\frac{1}{n}\\sum_{i=1}^{n}(y_{prediction} - y_{i})^2$."
      ]
    },
    {
      "cell_type": "markdown",
      "metadata": {
        "id": "qeXCrbmbE6hY"
      },
      "source": [
        "Isto posto, escreva uma função que calcule o EQM recebendo, como entrada, os vetores $y_{prediction}$ e $y_{i}$. Por exemplo, digamos que sua função se chame *calculate_eqm*, ela deve operar da seguinte forma:"
      ]
    },
    {
      "cell_type": "code",
      "execution_count": 4,
      "metadata": {
        "id": "bwiTGuuoE6hb"
      },
      "outputs": [
        {
          "name": "stdout",
          "output_type": "stream",
          "text": [
            "EQM: 1.2909944487358056\n"
          ]
        }
      ],
      "source": [
        "import math  \n",
        "import numpy as np  \n",
        " \n",
        "def calculate_eqm(y_prediction,y_i):\n",
        "    res = np.square(np.subtract(y_prediction,y_i)).mean()   \n",
        "    eqm = math.sqrt(res) \n",
        "    return eqm\n",
        "\n",
        "y_i = [1,2,3]\n",
        "y_prediction = [0,0,3]\n",
        "\n",
        "print(\"EQM: {}\".format(str(calculate_eqm(y_prediction,y_i)))) "
      ]
    },
    {
      "cell_type": "markdown",
      "metadata": {
        "id": "Wh0_a8PjE6hc"
      },
      "source": [
        "## Questão 4\n",
        "\n",
        "Crie um array 2D (bidimensional) com 1 na borda e 0 dentro"
      ]
    },
    {
      "cell_type": "code",
      "execution_count": 4,
      "metadata": {},
      "outputs": [
        {
          "data": {
            "text/plain": [
              "array([[1., 1., 1., 1., 1.],\n",
              "       [1., 0., 0., 0., 1.],\n",
              "       [1., 0., 0., 0., 1.],\n",
              "       [1., 0., 0., 0., 1.],\n",
              "       [1., 1., 1., 1., 1.]])"
            ]
          },
          "execution_count": 4,
          "metadata": {},
          "output_type": "execute_result"
        }
      ],
      "source": [
        "def matriz_1(a,b):\n",
        "    \n",
        "    mat= np.zeros((a,b))\n",
        "    mat[0,:]= 1 \n",
        "    mat[-1,:]= 1  \n",
        "    mat[:,0]= 1  \n",
        "    mat[:,-1]= 1 \n",
        "    return mat\n",
        "\n",
        "matriz_1(5,5)"
      ]
    },
    {
      "cell_type": "markdown",
      "metadata": {
        "id": "U1CntgkZE6hc"
      },
      "source": [
        "## Questão 5\n",
        "\n",
        "Como adicionar uma borda de 0's ao redor de um array 2D (bidimensional) existente"
      ]
    },
    {
      "cell_type": "code",
      "execution_count": 6,
      "metadata": {},
      "outputs": [
        {
          "data": {
            "text/plain": [
              "array([[0., 0., 0., 0., 0., 0., 0.],\n",
              "       [0., 1., 1., 1., 1., 1., 0.],\n",
              "       [0., 1., 1., 1., 1., 1., 0.],\n",
              "       [0., 1., 1., 1., 1., 1., 0.],\n",
              "       [0., 1., 1., 1., 1., 1., 0.],\n",
              "       [0., 1., 1., 1., 1., 1., 0.],\n",
              "       [0., 0., 0., 0., 0., 0., 0.]])"
            ]
          },
          "execution_count": 6,
          "metadata": {},
          "output_type": "execute_result"
        }
      ],
      "source": [
        "def matriz_2(mat):\n",
        "\n",
        "    mat = np.pad (mat, pad_width=1, mode='constant', constant_values=0)\n",
        "    return mat\n",
        "\n",
        "mat = np.ones((5,5))\n",
        "matriz_2(mat)"
      ]
    },
    {
      "cell_type": "markdown",
      "metadata": {
        "id": "qHh149eAE6hd"
      },
      "source": [
        "## Questão 6\n",
        "\n",
        " A eletroencefalografia (EEG) é uma técnica que mensura potenciais elétricos cerebrais em diversas regiões do escalpo do paciente. Suponha que você recebeu um conjunto de dados na forma de uma matriz de 64 x 512 elementos, em que cada linha contém o sinal gravado em um dos **eletrodos** espalhados pelo escalpo em um exame de EEG, e cada coluna contém um valor de potencial elétrico, em microvolts. "
      ]
    },
    {
      "cell_type": "markdown",
      "metadata": {
        "id": "BRDY8u09E6hd"
      },
      "source": [
        "Como o sinal de EEG é muito suscetível a ruídos externos (interferências na qualidade do sinal), uma operação comum para atenuar a interferência no sinal consiste em tirar a média do potencial elétrico de todos os eletrodos, e subtrair este valor de cada um deles. Isto atenua fontes de ruído ao sinal comuns a todos os eletrodos. Em termos matemáticos, o sinal processado por esta operação, $X_{e,i}$ para cada eletrodo (e) e amostra (i), é dado por:"
      ]
    },
    {
      "cell_type": "markdown",
      "metadata": {
        "id": "NHLeT5deE6he"
      },
      "source": [
        "$X_{e,i} = \\hat{X_{e,i}} - \\frac{1}{N}\\sum_{e=1}^{N}\\hat{X_{e,i}}$,\n",
        "\n",
        "em que $\\hat{X_{e,i}}$ representa o sinal original (ou seja, é a matriz de entrada de 64 x 512 elementos), e $N$ indica o total de eletrodos."
      ]
    },
    {
      "cell_type": "markdown",
      "metadata": {
        "id": "ToiE-omdE6he"
      },
      "source": [
        "Com o exposto acima, escreva uma função que retorne uma matriz com os sinais de EEG processados conforme a operação mencionada. Sua função deve operar conforme o exemplo abaixo."
      ]
    },
    {
      "cell_type": "code",
      "execution_count": 18,
      "metadata": {
        "id": "OlxjvCnQE6hj"
      },
      "outputs": [
        {
          "name": "stdout",
          "output_type": "stream",
          "text": [
            "---------------------------Matriz com Sinais EEG-----------------------------------\n",
            "\n",
            " [[ 0.00995597 -0.51114905 -0.46721246 ... -1.48368073  0.87029018\n",
            "   0.35986819]\n",
            " [ 0.65722129 -0.39130339  1.29089913 ...  0.2410644  -1.64113666\n",
            "  -0.54258623]\n",
            " [ 1.39981439  0.13215388  0.44799617 ...  0.29292618 -0.25970924\n",
            "   1.27148167]\n",
            " ...\n",
            " [-0.5567833  -0.18873658  1.26771274 ... -0.88579707 -0.3308949\n",
            "  -1.90131795]\n",
            " [ 1.81907645 -1.25212899 -0.8161035  ... -1.20948202 -0.26142529\n",
            "  -1.28560197]\n",
            " [-1.10176721 -1.03713093 -1.97251377 ... -0.90401072 -0.93779198\n",
            "   0.70755965]]\n"
          ]
        }
      ],
      "source": [
        "def process_EEG_signal (sinal):\n",
        "\n",
        "    media = sinal.mean()\n",
        "    subt = media/(sinal.size)\n",
        "    result = sinal - subt\n",
        "\n",
        "    return result\n",
        "\n",
        "sinal = np.random.randn(64,512)\n",
        "\n",
        "print(\"---------------------------Matriz com Sinais EEG-----------------------------------\")\n",
        "print(\"\\n\", process_EEG_signal(sinal))"
      ]
    },
    {
      "attachments": {},
      "cell_type": "markdown",
      "metadata": {
        "id": "7Gy6nTwQE6hj"
      },
      "source": [
        "## Questão 7\n",
        "\n",
        "Em estatística, um **outlier** é um valor que destoa consideravelmente da distribuição à qual está associado. Um dos critérios para idenficar outliers consiste em encontrar a **distância interquantil** (IQR), ou seja, a diferença entre o terceiro (Q3) e o primeiro quartis (Q1) da distribuição, e tomar como outliers todos os pontos abaixo do Limite Inferior (LI = Q1 - 1.5*IQR  ), ou acima do Limite Superior (LS = Q3 + 1.5*IQR)."
      ]
    },
    {
      "attachments": {},
      "cell_type": "markdown",
      "metadata": {},
      "source": [
        "![image.png](https://s3-sa-east-1.amazonaws.com/lcpi/0d8a7b04-b982-4e6b-9fc7-fbb062247d8d.png)\n"
      ]
    },
    {
      "cell_type": "markdown",
      "metadata": {
        "id": "CP-NkMHTE6hk"
      },
      "source": [
        "<img src = \"https://blog.curso-r.com/images/posts/banner/outlier.webp\" />"
      ]
    },
    {
      "cell_type": "markdown",
      "metadata": {
        "id": "BLDJN5JPE6hk"
      },
      "source": [
        "Escreva uma função que, dada uma matriz de dados de entrada de dimensões $N_{observações} \\times N_{features}$ retorne três requisitos: \n",
        "- uma matriz booleana indicando a existência de outliers nos dados de entrada;\n",
        "- a quantidade de outliers\n",
        "- quem são os outliers (os valores)."
      ]
    },
    {
      "cell_type": "markdown",
      "metadata": {
        "id": "wwVcP2uZE6hl"
      },
      "source": [
        "**Algumas definições:**\n",
        "- um *quantil* divide a distribuição, após ordenados os pontos, segundo algum ponto de corte;\n",
        "- o **primeiro quartil** é o ponto para o qual 25 % dos valores da distribuição estão abaixo dele;\n",
        "- o **terceiro quartil** é o ponto para o qual 75 % dos valores da distribuição estão abaixo dele.\n",
        "\n",
        "Pode ser útil consultar a função **numpy.quantile**."
      ]
    },
    {
      "cell_type": "markdown",
      "metadata": {
        "id": "C9nCKXhjE6hm"
      },
      "source": [
        "Exemplo de operação da função:"
      ]
    },
    {
      "cell_type": "code",
      "execution_count": 19,
      "metadata": {
        "id": "AdTkst5UE6hq"
      },
      "outputs": [
        {
          "name": "stdout",
          "output_type": "stream",
          "text": [
            "---------------------------Matriz booleana-----------------------------------\n",
            "\n",
            " [[False False False ... False False False]\n",
            " [False False False ... False False False]\n",
            " [False False False ... False False False]\n",
            " ...\n",
            " [False False False ... False False False]\n",
            " [False  True False ... False False False]\n",
            " [False False False ... False False False]]\n",
            "\n",
            "---------------------------------------------------------------------------\n",
            "\n",
            " --> Contagem de outliers:  131\n",
            "\n",
            "-------------------------------Outliers------------------------------------\n",
            "\n",
            " [-2.69766415 -2.71964021 -2.69070501  2.91433569  2.77757704 -3.03246428\n",
            "  3.28060563  2.71337263 -2.72147658  2.66344998 -2.75945747  3.02087473\n",
            "  4.12274769 -2.91121596  2.74657651 -3.02353194 -2.76240186 -2.81637056\n",
            "  2.7556974   2.62831123 -3.27740742 -3.42869832 -2.93380911  2.74229486\n",
            " -3.64579364  2.83253474  3.28221759 -2.68118728 -2.83791789 -3.21544674\n",
            "  2.65894874  3.31169275 -2.87301313 -3.07043753  2.94005015 -2.88756017\n",
            " -3.12030649  3.62780525 -2.72368453 -2.90985603  2.96186336 -2.81377981\n",
            "  3.40398102 -3.32261867 -2.8751192  -2.80253726  2.70649618  2.81894596\n",
            "  2.65042047  2.64886768  2.95926319  3.60163665 -2.83202004  2.85339211\n",
            " -3.1338481   2.81569584 -2.71329967  3.82223229  3.0350655  -2.83894357\n",
            "  2.80137018  3.16006921 -3.23294398  3.21164618 -3.07713414  2.83162178\n",
            " -2.71433273  3.62413611 -3.06896801 -2.72986606 -3.25517379 -2.94214015\n",
            " -2.77241468  3.35089354  2.82182518 -3.19338031  2.98112828 -2.89352348\n",
            " -2.73861507  2.60047231  2.99166616  3.00116844  3.18090472 -2.63233572\n",
            " -3.17933219  2.77681254 -3.23774056 -2.81009177 -2.7964384   3.03949121\n",
            " -2.63978989  2.84963717 -2.69095538 -2.79170847 -2.92259055  2.73631977\n",
            "  2.95364972  2.76049483 -3.00483057  2.95598564 -3.17139449 -3.10333449\n",
            " -2.77521989  3.19372876 -3.35251297  2.49202103  2.5549845  -2.74174967\n",
            " -3.16800494  3.10451501  2.77654126  2.73349032  3.03994829  2.90750126\n",
            " -3.06112013  3.555414    2.77790985 -2.76775141 -2.93352941  2.91119072\n",
            " -3.89691674  3.18258735 -3.05578587  2.79892857 -2.72582672 -2.8085674\n",
            " -2.82272441 -3.70293547  2.84906525 -3.59899739  2.71138159]\n"
          ]
        }
      ],
      "source": [
        "def locate_outliers(X): \n",
        "    import numpy as np\n",
        "    q1 = np.quantile(X,.25, axis=0)\n",
        "    q3 = np.quantile(X,.75, axis=0)\n",
        "    iqr = (q3 - q1)\n",
        "    is_outlier = ((X < (q1 - iqr.dot(1.5)))) | (X > (q3 + iqr.dot(1.5)))\n",
        "    outliers_count = (X[is_outlier]).size\n",
        "    outliers = X[is_outlier]\n",
        "    return (is_outlier, outliers_count, outliers)\n",
        "\n",
        "X = np.random.randn(1000,15)\n",
        "\n",
        "is_outlier, outliers_count, outliers = locate_outliers(X)\n",
        "print(\"---------------------------Matriz booleana-----------------------------------\")\n",
        "print(\"\\n\", is_outlier)\n",
        "print(\"\\n---------------------------------------------------------------------------\")\n",
        "print(\"\\n --> Contagem de outliers: \", outliers_count)\n",
        "print(\"\\n-------------------------------Outliers------------------------------------\")\n",
        "print(\"\\n\", outliers)"
      ]
    },
    {
      "cell_type": "markdown",
      "metadata": {
        "id": "upNDn96PE6hq"
      },
      "source": [
        "## Questão 8\n",
        "\n",
        "Crie um vetor com valores que vão de 1 até 21 de dois em dois, a partir da função arange"
      ]
    },
    {
      "cell_type": "code",
      "execution_count": 20,
      "metadata": {
        "id": "w4d14JRZE6hr"
      },
      "outputs": [
        {
          "name": "stdout",
          "output_type": "stream",
          "text": [
            "\n",
            "-------------------------------Valores Aleatórios------------------------------------\n"
          ]
        },
        {
          "data": {
            "text/plain": [
              "array([ 1,  3,  5,  7,  9, 11, 13, 15, 17, 19])"
            ]
          },
          "execution_count": 20,
          "metadata": {},
          "output_type": "execute_result"
        }
      ],
      "source": [
        "x = np.arange(1, 21, 2)\n",
        "print(\"\\n-------------------------------Valores Aleatórios------------------------------------\")\n",
        "x"
      ]
    },
    {
      "cell_type": "markdown",
      "metadata": {
        "id": "SchEY1O7E6hr"
      },
      "source": [
        "## Questão 9\n",
        "\n",
        "Crie um array de 10 com valores aleatórios"
      ]
    },
    {
      "cell_type": "code",
      "execution_count": 21,
      "metadata": {
        "id": "MYpySePjE6hs"
      },
      "outputs": [
        {
          "name": "stdout",
          "output_type": "stream",
          "text": [
            "\n",
            "-------------------------------Valores Aleatórios------------------------------------\n"
          ]
        },
        {
          "data": {
            "text/plain": [
              "array([762, 318, 904, 924, 701, 333, 287, 299, 379, 960])"
            ]
          },
          "execution_count": 21,
          "metadata": {},
          "output_type": "execute_result"
        }
      ],
      "source": [
        "ale = np.random.randint(1,1000,10)\n",
        "print(\"\\n-------------------------------Valores Aleatórios------------------------------------\")\n",
        "ale"
      ]
    },
    {
      "cell_type": "markdown",
      "metadata": {
        "id": "EFfvM6LIAlfJ"
      },
      "source": [
        "## Questão 10\n",
        "\n",
        "Em estatística, a normalização de uma distribuição de dados pode ser feita subtraindo o valor médio da distribuição de cada valor do conjunto de dados, dividindo o resultado pelo desvio-padrão da distribuição. Escreva uma função que normalize os dados recebidos por um array numpy qualquer, conforme descrito anteriormente."
      ]
    },
    {
      "cell_type": "code",
      "execution_count": 22,
      "metadata": {
        "id": "yfho2bziAlfJ"
      },
      "outputs": [
        {
          "name": "stdout",
          "output_type": "stream",
          "text": [
            "-------------------------------Distribuição Normalizada------------------------------------\n",
            "\n",
            " [ 0.64015115 -0.98122426  1.15869914  1.23173406  0.41739461 -0.92644806\n",
            " -1.0944284  -1.05060744 -0.75846773  1.36319693]\n"
          ]
        }
      ],
      "source": [
        "def normalize(X):\n",
        "    desvio = X.std()\n",
        "    media =  X.mean()\n",
        "    normalizado = (X-media).dot(1/desvio)\n",
        "    return normalizado\n",
        "print(\"-------------------------------Distribuição Normalizada------------------------------------\")\n",
        "print(\"\\n\", normalize(ale))"
      ]
    },
    {
      "cell_type": "markdown",
      "metadata": {
        "id": "p60_N7ZwAlfK"
      },
      "source": [
        "## Questão 11\n",
        "\n",
        "Escreva uma função em numpy que receba um array contendo notas de uma turma de 100 estudantes. Considere que a nota de aprovação da turma é 5.0. A função deve retornar, em um array numpy, nesta ordem:\n",
        "- a média e o desvio-padrão das notas da turma;\n",
        "- o número de notas maiores que 7.0;\n",
        "- o número de reprovações da turma;\n",
        "- a menor nota da turma;\n",
        "- a maior nota da turma."
      ]
    },
    {
      "cell_type": "code",
      "execution_count": 23,
      "metadata": {
        "id": "Q3wkBCFtAlfK"
      },
      "outputs": [
        {
          "name": "stdout",
          "output_type": "stream",
          "text": [
            "[8 7 0 0 3 2 1 6 8 0 8 1 4 0 4 8 6 6 8 2 7 0 8 9 2 1 0 6 7 6 0 7 1 1 1 3 1\n",
            " 3 3 7 7 4 7 6 8 7 0 2 9 5 4 6 3 4 8 3 0 6 0 9 3 2 1 8 4 9 7 2 7 1 9 4 0 6\n",
            " 1 6 6 4 0 8 9 6 5 4 5 2 8 2 8 0 2 8 9 3 9 8 8 3 4 3]\n",
            "\n",
            "-------------------------------Informações------------------------------------\n",
            "Média: 4.47\n",
            "Desvio Padrão: 3.0048460859085613\n",
            "Quantidade Aprovados: 48\n",
            "Quantidade Reprovados: 52\n",
            "Menor Nota: 0\n",
            "Maior Nota: 9\n"
          ]
        }
      ],
      "source": [
        "def info_notas(notas):\n",
        "    notas = np.random.randint(0, 10, 100)\n",
        "    print (notas)\n",
        "    media = notas.mean()\n",
        "    desvio_padrao = notas.std()\n",
        "    count_aprovados = 0\n",
        "    count_reprovados = 0\n",
        "    for i in notas:\n",
        "        if notas[i] >= 5:\n",
        "            count_aprovados +=1\n",
        "        else:\n",
        "            count_reprovados +=1\n",
        "    menor_nota = notas.min()\n",
        "    maior_nota = notas.max()\n",
        "    return media, desvio_padrao, count_aprovados, count_reprovados, menor_nota, maior_nota \n",
        "\n",
        "notas = np.random.randint(0, 10, 100)\n",
        "info = info_notas(notas)\n",
        "\n",
        "print(\"\\n-------------------------------Informações------------------------------------\")\n",
        "print(\"Média: \" + str(info[0]))\n",
        "print(\"Desvio Padrão: \" + str(info[1]))\n",
        "print(\"Quantidade Aprovados: \" + str(info[2]))\n",
        "print(\"Quantidade Reprovados: \" + str(info[3]))\n",
        "print(\"Menor Nota: \" + str(info[4]))\n",
        "print(\"Maior Nota: \" + str(info[5]))"
      ]
    },
    {
      "cell_type": "code",
      "execution_count": null,
      "metadata": {},
      "outputs": [],
      "source": [
        "#Fim"
      ]
    }
  ],
  "metadata": {
    "colab": {
      "include_colab_link": true,
      "provenance": []
    },
    "kernelspec": {
      "display_name": "Python 3",
      "language": "python",
      "name": "python3"
    },
    "language_info": {
      "codemirror_mode": {
        "name": "ipython",
        "version": 3
      },
      "file_extension": ".py",
      "mimetype": "text/x-python",
      "name": "python",
      "nbconvert_exporter": "python",
      "pygments_lexer": "ipython3",
      "version": "3.10.10"
    },
    "orig_nbformat": 4,
    "vscode": {
      "interpreter": {
        "hash": "9951448b5b8e499abc571d21728404abde85b5cdd115be99ada4200306c17992"
      }
    }
  },
  "nbformat": 4,
  "nbformat_minor": 0
}
